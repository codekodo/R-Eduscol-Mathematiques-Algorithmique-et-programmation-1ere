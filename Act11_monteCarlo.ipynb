{
 "cells": [
  {
   "cell_type": "markdown",
   "metadata": {
    "tags": [
     "pi",
     "Approximation",
     "première",
     "générale",
     "Monte-Carlo"
    ]
   },
   "source": [
    "# Approximation du nombre $\\pi$ par la méthode de Monte-Carlo"
   ]
  },
  {
   "cell_type": "markdown",
   "metadata": {
    "tags": [
     "première-générale",
     "spécialité"
    ]
   },
   "source": [
    "## Présentation de l'activité\n",
    "- **Niveau de classe :** \n",
    " - Classe de première de la voie générale (spécialité mathématiques)\n",
    " - Classe de première de la voie technologique (tronc commun).\n",
    "- **Référence au programme :** \n",
    " - Spécialité mathématiques de première générale: *Méthode de Monte Carlo : estimation du nombre $\\pi$*.\n",
    "- **Description :** Activité de découverte d'un méthode probabiliste d'estimation : la méthode de Monte-Carlo. Le but ici est d'estimer l'aire du quart de disque de rayon $1$ afin d'obtenir une approximation du nombre $\\pi$."
   ]
  },
  {
   "cell_type": "markdown",
   "metadata": {},
   "source": [
    "## Objectifs\n",
    "Il est courant d'utiliser des nombres aléatoires pour estimer des quantités numériques. Nous allons ici utiliser des variables aléatoires de loi uniforme afin d'estimer le nombre $\\pi$. \n",
    "Pour cela nous allons:\n",
    "- générer des points aléatoirement et uniformément dans un carré de coté 1;\n",
    "- calculer la proportion de points situés en dessous du quart de cercle de rayon 1. Cela nous permettra de donner une estimation de son aire;\n",
    "- approcher le nombre $\\pi$ sachant que l'aire d'un quart de disque de rayon 1 est $\\frac{\\pi}{4}$. \n",
    "\n",
    "![Monte Carlo](img/monteCarlo.png \"Méthode de Monte Carlo\")"
   ]
  },
  {
   "cell_type": "markdown",
   "metadata": {
    "tags": [
     "estimation",
     "simulation",
     "random"
    ]
   },
   "source": [
    "## Estimation\n",
    "La fonction `random` de la librairie `random` permet de générer un nombre aléatoirement et uniformément entre 0 et 1."
   ]
  },
  {
   "cell_type": "code",
   "execution_count": 1,
   "metadata": {},
   "outputs": [
    {
     "name": "stdout",
     "output_type": "stream",
     "text": [
      "3.108\n"
     ]
    }
   ],
   "source": [
    "from random import random as rd\n",
    "\n",
    "nbPoints = 1000\n",
    "\n",
    "s = 0\n",
    "for i in range(nbPoints):\n",
    "    x,y = rd(),rd()\n",
    "    if x**2+y**2<1:\n",
    "        s=s+1\n",
    "estimPi = 4*s/nbPoints\n",
    "\n",
    "print(estimPi)"
   ]
  },
  {
   "cell_type": "markdown",
   "metadata": {},
   "source": [
    "<div class=\"alert alert-info\">\n",
    "\n",
    "Suggestions pédagogiques\n",
    "\n",
    "</div>\n",
    "\n",
    "* **Expliquer un programme** \n",
    " - Que représente la variable `s` ? \n",
    " - Expliquer la ligne 8.\n",
    " \n",
    "* **Compléter un programme** \n",
    "\n",
    "    - Le programme précédent étant fourni en remplaçant la ligne 8 par `if ...`, demander aux élèves de compléter la ligne 8. \n",
    "    - Le programme précédent étant fourni en remplaçant la ligne 10 par `estimPi = ...`, demander aux élèves de compléter la ligne 10. \n",
    "* **Écrire un programme**\n",
    "\n",
    "    Écrire un programme générant des points de coordonnées aléatoires entre 0 et 1 et comptant la proportion de points situés dans le disque de centre $(0,0)$ et de rayon $0,5$\n",
    "* **Tester** l'estimation du nombre $\\pi$ pour différents nombres de points générés."
   ]
  },
  {
   "cell_type": "markdown",
   "metadata": {
    "tags": [
     "convergence"
    ]
   },
   "source": [
    "## Convergence\n",
    "Nous allons maintenant utiliser les listes afin de stocker au fur et à mesure des estimations de $\\pi$ obtenues en faisant varier le nombre de points générés.\n"
   ]
  },
  {
   "cell_type": "code",
   "execution_count": 2,
   "metadata": {},
   "outputs": [
    {
     "data": {
      "image/png": "[encoded data removed]",
      "text/plain": [
       "<Figure size 432x288 with 1 Axes>"
      ]
     },
     "metadata": {
      "needs_background": "light"
     },
     "output_type": "display_data"
    }
   ],
   "source": [
    "%matplotlib inline\n",
    "import matplotlib.pyplot as plt\n",
    "\n",
    "### cte ###\n",
    "N=500\n",
    "    \n",
    "estimation = []\n",
    "somme = 0\n",
    "for i in range(N):\n",
    "    (x,y) = (rd(),rd())\n",
    "    if x**2+y**2<1:\n",
    "        somme = somme + 1\n",
    "    estimation.append(4*somme/(i+1))\n",
    "\n",
    "plt.plot([0,N],[3.14,3.14],color='m')\n",
    "plt.text(N+2,3.13,\"$\\pi$\",color='m',fontsize=14)\n",
    "plt.title(\"Estimation de $\\pi$ avec {} points: $\\pi\\simeq${}\".format(N,estimation[-1]),color=\"#1e7fcb\",fontsize=14)\n",
    "plt.plot(estimation)\n",
    "plt.show()\n",
    "\n",
    "   \n"
   ]
  },
  {
   "cell_type": "markdown",
   "metadata": {},
   "source": [
    "<div class=\"alert alert-info\">\n",
    "\n",
    "Suggestions pédagogiques\n",
    "\n",
    "</div>\n",
    "\n",
    "* **Expliquer un programme**\n",
    "\n",
    "    Que contient la liste `estimation` ?\n",
    " \n",
    "* **Compléter un programme**\n",
    "\n",
    "    Le programme précédent étant fourni en remplaçant la ligne 13 par `estimation.append(...)`, demander aux élèves de compléter la ligne 13."
   ]
  },
  {
   "cell_type": "markdown",
   "metadata": {
    "tags": [
     "Animation"
    ]
   },
   "source": [
    "## Animation susceptible d'être présentée aux élèves\n",
    "L'animation suivante permet d'illustrer la méthode de Monte Carlo. Des points sont choisis aléatoirement, s'ils sont dans le quart de cercle, ils prennent la couleur verte, sinon ils prennent la couleur rouge. La figure de droite illustre comment la fréquence de points verts approche $\\pi$."
   ]
  },
  {
   "cell_type": "code",
   "execution_count": null,
   "metadata": {
    "tags": [
     "Animation"
    ]
   },
   "outputs": [],
   "source": [
    "import matplotlib.animation\n",
    "from IPython.display import HTML\n",
    "\n",
    "#cte\n",
    "N = 200\n",
    "\n",
    "#paramètres figure\n",
    "fig, (ax1, ax2) = plt.subplots(1, 2,figsize=(10, 6))\n",
    "ax1.set_xlim(( 0, 1))\n",
    "ax1.set_ylim((0, 1))\n",
    "ax2.set_xlim(( 0, N))\n",
    "ax2.set_ylim((1.9, 4.1))\n",
    "ax1.set_aspect('equal')\n",
    "ax2.set_aspect(N//4)\n",
    "\n",
    "Xin,Yin,Xout,Yout = [],[],[],[]\n",
    "somme = 0\n",
    "pis = []\n",
    "pointsIn, = ax1.plot([],[],'go')\n",
    "pointsOut, = ax1.plot([],[],'ro')\n",
    "estimation = ax2.text(N//2-N//4,1.2,'Estimation',color=\"#1e7fcb\",fontsize=14)\n",
    "courbe, = ax2.plot([],[])\n",
    "\n",
    "def init():\n",
    "    pointsIn.set_data([], [])\n",
    "    pointsOut.set_data([], [])\n",
    "    estimation.set_text(\"0\")\n",
    "    courbe.set_data([], [])\n",
    "    circle1 = plt.Circle((0, 0), 1, color='gray', alpha=0.1)\n",
    "    ax1.add_artist(circle1)\n",
    "    ax2.plot([0,N],[3.14,3.14],'m-')\n",
    "    ax2.text(N+0.5,3.1,'$\\pi$',color=\"m\",fontsize=14)    \n",
    "    ax2.set_title('4 x Proportion de points dans le quart de disque')\n",
    "    return (pointsIn,) \n",
    "\n",
    "def animate(i):\n",
    "    global somme\n",
    "    x,y = rd(),rd()\n",
    "    if x**2+y**2<1:\n",
    "        somme +=1\n",
    "        Xin.append(x)\n",
    "        Yin.append(y)\n",
    "        pointsIn.set_data([Xin,Yin])\n",
    "    else:\n",
    "        Xout.append(x)\n",
    "        Yout.append(y)\n",
    "        pointsOut.set_data([Xout,Yout])\n",
    "    pis.append(4*somme/(i+1))   \n",
    "    estimation.set_text(\"$\\pi\\simeq${} avec {} points\".format(int(1000*pis[i])/1000,i+1))\n",
    "    courbe.set_data(range(i+1),pis)\n",
    "    return (pointsIn,)\n",
    "plt.close ()\n",
    "ani = matplotlib.animation.FuncAnimation(fig, animate, frames=N,init_func=init,blit=True)\n",
    "# l'un ou l'autre\n",
    "HTML(ani.to_jshtml())\n",
    "#HTML(ani.to_html5_video())"
   ]
  },
  {
   "cell_type": "markdown",
   "metadata": {},
   "source": [
    "<div class=\"alert alert-warning\">\n",
    "\n",
    "Remarque\n",
    "\n",
    "</div>\n",
    "\n",
    "Il peut être intéressant d'utiliser la courbe en mode 'pas à pas' pour montrer aux élèves que lorsqu'un point vert apparaît la courbe monte et que lorsqu'un point rouge apparaît, elle descend."
   ]
  }
 ],
 "metadata": {
  "celltoolbar": "Tags",
  "kernelspec": {
   "display_name": "Python 3",
   "language": "python",
   "name": "python3"
  },
  "language_info": {
   "codemirror_mode": {
    "name": "ipython",
    "version": 3
   },
   "file_extension": ".py",
   "mimetype": "text/x-python",
   "name": "python",
   "nbconvert_exporter": "python",
   "pygments_lexer": "ipython3",
   "version": "3.5.5"
  }
 },
 "nbformat": 4,
 "nbformat_minor": 2
}
