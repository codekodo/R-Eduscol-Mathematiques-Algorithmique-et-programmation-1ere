{
 "cells": [
  {
   "cell_type": "markdown",
   "metadata": {
    "tags": [
     "suites"
    ]
   },
   "source": [
    "# Suites - Réseau social InstaBook"
   ]
  },
  {
   "cell_type": "markdown",
   "metadata": {
    "tags": [
     "première",
     "seuil",
     "somme",
     "rang",
     "arithmético-géométrique"
    ]
   },
   "source": [
    "## Présentation de l'activité\n",
    "- **Niveau de classe :** \n",
    " - Classe de première de la voie générale (spécialité mathématiques).\n",
    " - Classe de première de la voie technologique (tronc commun).\n",
    "- **Références au programme:** \n",
    " - Spécialité mathématiques de première générale: *Calcul de termes d’une suite, de sommes de termes, de seuil*.\n",
    " - Tronc commun de première de la voie technologique : *Calcul d'un terme de rang donné d’une suite, d'une somme finie de termes*.\n",
    " - Tronc commun de première de la voie technologique : *Déterminer une liste de termes d’une suite et les représenter*.\n",
    " - Tronc commun de première de la voie technologique : *Algorithme de seuil*.\n",
    "- **Description :** Activité classique d'étude d'une suite arithmético-géométrique mise en contexte."
   ]
  },
  {
   "cell_type": "markdown",
   "metadata": {},
   "source": [
    "## Situation\n",
    "\n",
    "Le nouveau réseau social $\\texttt{InstaBook}$ avait $100\\ 000$ inscrits en janvier $2018$. Chaque mois, on peut estimer que $5\\%$ des membres se désinscrivent (on arrondira à l'entier inférieur) et qu'il y a $20\\ 000$ nouveaux inscrits. Pour un entier naturel $n$, on note $u_{n}$ le nombre d'inscrits au bout de $n$ mois depuis janvier $2018$. Par exemple $u_{0}$ représente le nombre d'inscrits en janvier $2018$ et $u_{5}$ représente le nombre d'inscrits en juin $2018$."
   ]
  },
  {
   "cell_type": "markdown",
   "metadata": {},
   "source": [
    "On a $u_0=100\\ 000$ et $\\forall n>0,\\ u_{n+1}=\\textrm{Ent}(0.95\\times u_n)+20\\ 000$."
   ]
  },
  {
   "cell_type": "markdown",
   "metadata": {},
   "source": [
    "<div class=\"alert alert-info\">\n",
    "\n",
    "Suggestions pédagogiques\n",
    "\n",
    "</div>\n",
    "\n",
    "- **Mathématiques débranchées**\n",
    "    - Calculer $u_2$ (sans programmation).\n",
    "    - Expliquer la relation de récurrence entre $u_n$ et $u_{n+1}$."
   ]
  },
  {
   "cell_type": "markdown",
   "metadata": {},
   "source": [
    "## Nombre d'inscrits au bout de $n$ mois\n",
    "\n",
    "La fonction `nombreInscrits` prend en paramètre un entier `n` correspondant au nombre de mois écoulés depuis janvier 2018. Elle renvoie la valeur de $u_n$."
   ]
  },
  {
   "cell_type": "code",
   "execution_count": 1,
   "metadata": {
    "ExecuteTime": {
     "end_time": "2019-07-12T08:54:28.273839Z",
     "start_time": "2019-07-12T08:54:28.255677Z"
    }
   },
   "outputs": [
    {
     "name": "stdout",
     "output_type": "stream",
     "text": [
      "Nombre d'inscrits au bout de 10 mois : 220375\n"
     ]
    }
   ],
   "source": [
    "def nombreInscrits(n):\n",
    "    u = 100000\n",
    "    for i in range(n):\n",
    "        u = int(0.95*u)+20000\n",
    "    return u\n",
    "print(\"Nombre d'inscrits au bout de 10 mois :\",nombreInscrits(10))"
   ]
  },
  {
   "cell_type": "markdown",
   "metadata": {},
   "source": [
    "<div class=\"alert alert-info\">\n",
    "\n",
    "Suggestions pédagogiques\n",
    "\n",
    "</div>\n",
    "\n",
    "- **Compléter un programme** \n",
    "\n",
    "    Le programme précédent étant fourni en remplaçant les lignes 2 et 4 par `u = ...` et `... = ...`, demander aux élèves de compléter les lignes 2 et 4. .\n",
    "- **Expliquer un programme**\n",
    "\n",
    "    Que fait la ligne 4 ?\n",
    "- **Tester** la fonction`nombreInscrits` pour déterminer le nombre d'inscrits en février $2029$."
   ]
  },
  {
   "cell_type": "markdown",
   "metadata": {},
   "source": [
    "# Évolution du nombre d'inscrits\n",
    "La fonction `tableauNombreInscrits` prend en paramètre un entier `n` correspondant au nombre de mois écoulés depuis janvier 2018. Elle renvoie une liste contenant les nombres d'inscrits tous les mois jusqu'au $n$-ième mois."
   ]
  },
  {
   "cell_type": "code",
   "execution_count": 3,
   "metadata": {
    "ExecuteTime": {
     "end_time": "2019-07-12T08:55:10.22077Z",
     "start_time": "2019-07-12T08:55:10.213599Z"
    }
   },
   "outputs": [],
   "source": [
    "def tableauNombreInscrits(n): \n",
    "    tab = []\n",
    "    u = 100000\n",
    "    for i in range(n):\n",
    "        u = int(0.95*u)+20000\n",
    "        tab.append(u) \n",
    "    return tab"
   ]
  },
  {
   "cell_type": "markdown",
   "metadata": {},
   "source": [
    "<div class=\"alert alert-info\">\n",
    "\n",
    "Suggestions pédagogiques\n",
    "\n",
    "</div>\n",
    "\n",
    "- **Compléter un programme**\n",
    "\n",
    "    Le programme précédent étant fourni en remplaçant la ligne 6 par `...append(...)`, demander aux élèves de compléter la ligne 6. .\n",
    "- **Expliquer un programme**\n",
    "\n",
    "    Que fait la  ligne 4 ?\n",
    "- **Tester** la fonction `tableauNombreInscrits` pour différentes valeurs et conjecturer une tendance. "
   ]
  },
  {
   "cell_type": "markdown",
   "metadata": {},
   "source": [
    "**Représentation graphique du nombre d'inscrits en fonction du temps**\n",
    "\n",
    "Le programme suivant permet la représentation des termes de la suite $(u_n)$ en fonction de $n$ pour $n$ allant de 0 à 100."
   ]
  },
  {
   "cell_type": "code",
   "execution_count": 4,
   "metadata": {
    "ExecuteTime": {
     "end_time": "2019-07-12T08:55:18.900843Z",
     "start_time": "2019-07-12T08:55:17.0666Z"
    }
   },
   "outputs": [
    {
     "data": {
      "image/png": "[encoded data removed]",
      "text/plain": [
       "<matplotlib.figure.Figure at 0x7fc56d967208>"
      ]
     },
     "metadata": {},
     "output_type": "display_data"
    }
   ],
   "source": [
    "%matplotlib inline\n",
    "import matplotlib.pyplot as plt\n",
    "\n",
    "n = 100\n",
    "\n",
    "plt.plot(tableauNombreInscrits(n),'.')\n",
    "plt.show()"
   ]
  },
  {
   "cell_type": "markdown",
   "metadata": {},
   "source": [
    "<div class=\"alert alert-info\">\n",
    "\n",
    "Suggestions pédagogiques\n",
    "\n",
    "</div>\n",
    "\n",
    "- **Conjecturer**\n",
    "\n",
    "    Quelle conjecture peut-on émettre sur l'évolution du nombre d'inscrits à long terme ? "
   ]
  },
  {
   "cell_type": "markdown",
   "metadata": {},
   "source": [
    "## Calcul de seuil\n",
    "Le réseau social  projette de réaliser des investissements (serveurs, publicité, etc.) à partir de $250\\,000$ inscrits. \n",
    "La fonction `seuil` calcule le nombre de mois nécessaires pour atteindre un nombre d'inscrits `k`. Elle prend en paramètres le nombre `k` d'inscrits à atteindre et renvoie le nombre de mois nécessaires."
   ]
  },
  {
   "cell_type": "code",
   "execution_count": 5,
   "metadata": {
    "ExecuteTime": {
     "end_time": "2019-07-12T08:56:22.377739Z",
     "start_time": "2019-07-12T08:56:22.362039Z"
    }
   },
   "outputs": [
    {
     "name": "stdout",
     "output_type": "stream",
     "text": [
      "14\n"
     ]
    }
   ],
   "source": [
    "def f(x):\n",
    "    return 0.95*x+20000\n",
    "\n",
    "def seuil(k):\n",
    "    u = 100000\n",
    "    n = 0\n",
    "    while u<k:\n",
    "        u = f(u)\n",
    "        n = n+1\n",
    "    return n\n",
    "\n",
    "nbMois = seuil(250000)\n",
    "print(nbMois)"
   ]
  },
  {
   "cell_type": "markdown",
   "metadata": {},
   "source": [
    "<div class=\"alert alert-info\">\n",
    "\n",
    "Suggestions pédagogiques\n",
    "\n",
    "</div>\n",
    "\n",
    "- **Compléter un programme**\n",
    "\n",
    "    Le programme précédent étant fourni en remplaçant les lignes 7, 8 et 9 par `while ...`, `... = f(...)`,`n = ...`, demander aux élèves de compléter les lignes 7, 8 et 9.\n",
    "- **Expliquer un programme** \n",
    "    \n",
    "    Que font les lignes 7, 8 et 9 ?\n",
    "- **Tester** la fonction `seuil` afin de déterminer le nombre de mois au bout desquels il faut réaliser des investissements.\n",
    "- **Écrire un programme**\n",
    "    \n",
    "    Écrire une fonction permettant de déterminer le nombre de mois au bout desquels il faut réaliser des investissements."
   ]
  }
 ],
 "metadata": {
  "celltoolbar": "Tags",
  "kernelspec": {
   "display_name": "Python 3",
   "language": "python",
   "name": "python3"
  },
  "language_info": {
   "codemirror_mode": {
    "name": "ipython",
    "version": 3
   },
   "file_extension": ".py",
   "mimetype": "text/x-python",
   "name": "python",
   "nbconvert_exporter": "python",
   "pygments_lexer": "ipython3",
   "version": "3.5.5"
  },
  "varInspector": {
   "cols": {
    "lenName": 16,
    "lenType": 16,
    "lenVar": 40
   },
   "kernels_config": {
    "python": {
     "delete_cmd_postfix": "",
     "delete_cmd_prefix": "del ",
     "library": "var_list.py",
     "varRefreshCmd": "print(var_dic_list())"
    },
    "r": {
     "delete_cmd_postfix": ") ",
     "delete_cmd_prefix": "rm(",
     "library": "var_list.r",
     "varRefreshCmd": "cat(var_dic_list()) "
    }
   },
   "types_to_exclude": [
    "module",
    "function",
    "builtin_function_or_method",
    "instance",
    "_Feature"
   ],
   "window_display": false
  }
 },
 "nbformat": 4,
 "nbformat_minor": 2
}
