{
 "cells": [
  {
   "cell_type": "markdown",
   "metadata": {
    "colab_type": "text",
    "id": "B9Lb9xIM7qQn",
    "tags": [
     "chiffrement",
     "code",
     "fluctuation",
     "alphabet"
    ]
   },
   "source": [
    "# Codage d'un message par substitution"
   ]
  },
  {
   "cell_type": "markdown",
   "metadata": {
    "tags": [
     "première-générale",
     "texte",
     "apparition",
     "fréquence",
     "factorielle",
     "chiffrement",
     "déchriffrement"
    ]
   },
   "source": [
    "## Présentation de l'activité\n",
    "- **Niveau de classe :** classe de première de la voie générale (spécialité mathématiques).\n",
    "- **Références au programme :** \n",
    " - spécialité mathématiques de première générale : *Fréquence d’apparition des lettres d’un texte donné, en français, en anglais*.\n",
    " - spécialité mathématiques de première générale : *Calcul de factorielle*.\n",
    "- **Description :** activité présentant une méthode de déchiffrement de messages chiffrés par substitution."
   ]
  },
  {
   "cell_type": "markdown",
   "metadata": {
    "colab_type": "text",
    "id": "q9znBxZO88Bw"
   },
   "source": [
    "##### Situation\n",
    "Le chiffrement par substitution simple (ou alphabet désordonné) consiste à remplacer dans un message chacune des lettres de l'alphabet par une autre. \n",
    "\n",
    "Par exemple, si la lettre <b>m</b> est remplacée par <b>t</b> et la lettre <b>i</b> est remplacée par la lettre <b>o</b> alors le mot **mimi** est remplacé par **toto**.\n",
    "\n",
    "La substitution est définie par une permutation des lettres de l'alphabet. \n",
    "Nous nous intéressons ici au décodage des messages chiffrés par substitution.\n",
    "Nous nous limiterons aux messages écrits en français sans accent, sans majuscule, sans espace et sans ponctuation. L'alphabet utilisé comporte donc 26 lettres minuscules."
   ]
  },
  {
   "cell_type": "markdown",
   "metadata": {
    "colab_type": "text",
    "id": "FIDLF4E8rRSo"
   },
   "source": [
    "## Nombre de chiffrements par substitution\n",
    "Chaque permutation des 26 lettres fournit une possibilité de chiffrement. Pour décoder un message chiffré par substitution, on pourrait lister toutes les permutations possibles.\n",
    "\n",
    "Le nombre de permutations est égal à $26\\times25\\times24\\times...\\times1=26!$.\n",
    "\n",
    "La fonction suivante permet le calcul de la factorielle d'un entier naturel $n$. Elle prend en paramètre un entier naturel $n$ et renvoie $n!$."
   ]
  },
  {
   "cell_type": "code",
   "execution_count": 1,
   "metadata": {
    "colab": {
     "base_uri": "https://localhost:8080/",
     "height": 34
    },
    "colab_type": "code",
    "id": "Ys5Vc4vnrXBh",
    "outputId": "09226006-221e-4008-aa85-15b46730d5d1"
   },
   "outputs": [
    {
     "name": "stdout",
     "output_type": "stream",
     "text": [
      "403291461126605635584000000\n"
     ]
    }
   ],
   "source": [
    "def factorielle(n):\n",
    "    fact=1\n",
    "    for i in range(1,n+1):\n",
    "        fact=fact*i\n",
    "    return fact\n",
    "print(factorielle(26))"
   ]
  },
  {
   "cell_type": "markdown",
   "metadata": {
    "colab_type": "text",
    "id": "CY4NwchOntQp"
   },
   "source": [
    "<div class=\"alert alert-info\">\n",
    "\n",
    "Suggestions pédagogiques\n",
    "</div>\n",
    "\n",
    "- **Mathématiques débranchées**\n",
    "\n",
    "    Dans le cas où on ne présente pas un alphabet comme une permutation de l'ensemble $\\lbrace a, b, \\dots, y, z\\rbrace$ , demander aux élèves de calculer directement le nombre de chiffrements possibles.\n",
    "- **Expliquer un programme**\n",
    "\n",
    "    Que fait la ligne 3 ?\n",
    "- **Compléter un programme**\n",
    "\n",
    "    Le programme précédent étant fourni en remplaçant les lignes 2 et 4 par `fact = ...` (dans ces deux lignes), demander aux élèves de compléter les lignes 2 et 4.\n",
    "- **Tester** la fonction `factorielle` pour donner le nombre de permutations possibles pour un alphabet de 26 lettres. Conclure sur la faisabilité de la méthode de déchiffrement basée sur l'examen de tous les chiffrements possibles."
   ]
  },
  {
   "cell_type": "markdown",
   "metadata": {
    "colab_type": "text",
    "id": "LOTer8aGroHr"
   },
   "source": [
    "# Utilisation de la fréquence d'apparition des lettres.\n",
    "Pour déchiffrer un message codé par substitution, il est plus efficace d'utiliser l'analyse fréquentielle. Celle-ci utilise le fait que, dans une langue donnée, la fréquence d'apparition d'une lettre donnée varie peu d'un texte à l'autre."
   ]
  },
  {
   "cell_type": "markdown",
   "metadata": {
    "colab_type": "text",
    "id": "d4jX2-tvM4ZU"
   },
   "source": [
    "## Détermination de la fréquence d'une lettre dans un texte\n",
    "La fonction `frequenceLettre` prend en paramètres une lettre et un texte (chaines de caractères) en paramètres et renvoie la fréquence d'apparition de la lettre dans le texte. \n",
    "\n",
    "On la teste ici pour un texte de 206 caractères extrait de Cyrano de Bergerac (sans majuscule, accent, espace ou ponctuation) et la lettre <b>a</b>."
   ]
  },
  {
   "cell_type": "code",
   "execution_count": 2,
   "metadata": {
    "colab": {
     "base_uri": "https://localhost:8080/",
     "height": 34
    },
    "colab_type": "code",
    "id": "MSMNNizr7nBH",
    "outputId": "8b06c048-c8c2-4c2f-d89e-e751bde7354e"
   },
   "outputs": [
    {
     "name": "stdout",
     "output_type": "stream",
     "text": [
      "0.08737864077669903\n"
     ]
    }
   ],
   "source": [
    "texte=\"ahnoncestunpeucourtjeunehommeonpouvaitdireohdieubiendeschosesensommeenvariantletonparexempletenezagressifmoimonsieursijavaisuntelnezilfaudraitsurlechampquejemelamputasseamicalmaisildoittremperdansvotretasse\"\n",
    "\n",
    "def frequenceLettre(lettre,texte):\n",
    "    compteur=0\n",
    "    for l in texte:\n",
    "        if l==lettre:\n",
    "            compteur=compteur+1\n",
    "    return compteur/len(texte)\n",
    "\n",
    "print(frequenceLettre(\"a\",texte))"
   ]
  },
  {
   "cell_type": "markdown",
   "metadata": {
    "colab_type": "text",
    "id": "FXK6ZBr-w8am"
   },
   "source": [
    "<div class=\"alert alert-info\">\n",
    "\n",
    "Suggestions  pédagogiques\n",
    "</div>\n",
    "\n",
    "- **Expliquer un programme** \n",
    "\n",
    "    Quel est le type de la variable `l` dans la ligne 5 ?\n",
    "- **Compléter un programme**\n",
    "\n",
    "    Le programme précédent étant fourni en remplaçant les lignes 4,6 et 7 par `compteur = ...`, `if l==...` et `compteur = ...`, demander aux élèves de compléter les lignes 4, 6 et 7."
   ]
  },
  {
   "cell_type": "markdown",
   "metadata": {
    "colab_type": "text",
    "id": "msvG5gB5JCVD"
   },
   "source": [
    "## Fluctuation de la fréquence d'apparition d'une lettre en fonction de la longueur du texte\n",
    "Pour des textes longs, la fréquence d’apparition observée est proche d’une valeur qui peut s’interpréter comme fréquence d’apparition de la lettre dans la langue française. On étudie ici un texte comprenant $1917$ caractères."
   ]
  },
  {
   "cell_type": "markdown",
   "metadata": {
    "colab_type": "text",
    "id": "LOJ_abUwxrsw"
   },
   "source": [
    "## Remarque :\n",
    "Le code texte[:i] permet d'extraire les i premiers caractères du texte."
   ]
  },
  {
   "cell_type": "markdown",
   "metadata": {},
   "source": [
    "**Importation de la bibliothèque graphique.**"
   ]
  },
  {
   "cell_type": "code",
   "execution_count": 3,
   "metadata": {},
   "outputs": [],
   "source": [
    "%matplotlib inline\n",
    "import matplotlib.pyplot as plt"
   ]
  },
  {
   "cell_type": "markdown",
   "metadata": {},
   "source": [
    "**Texte à déchiffrer.**"
   ]
  },
  {
   "cell_type": "code",
   "execution_count": 4,
   "metadata": {},
   "outputs": [],
   "source": [
    "texte=\"ahnoncestunpeucourtjeunehommeonpouvaitdireohdieubiendeschosesensommeenvariantletonparexempletenezagressifmoimonsieursijavaisuntelnezilfaudraitsurlechampquejemelamputasseamicalmaisildoittremperdansvotretassepourboirefaitesvousfabriquerunhanapdescriptifcestunroccestunpiccestuncapquedisjecestuncapcestunepeninsulecurieuxdequoisertcetteoblonguecapsuledecritoiremonsieuroudeboiteaciseauxgracieuxaimezvousacepointlesoiseauxquepaternellementvousvouspreoccupatesdetendreceperchoiraleurspetitespattestruculentçamonsieurlorsquevouspetunezlavapeurdutabacvoussortelledunezsansquunvoisinnecrieaufeudechemineeprevenantgardezvousvotreteteentraineeparcepoidsdetomberenavantsurlesoltendrefaitesluifaireunpetitparasoldepeurquesacouleurausoleilnesefanepedantlanimalseulmonsieurquaristophaneappellehippocampelephantocamelosdutavoirsouslefronttantdechairsurtantdoscavalierquoiiamicecrocestalamodepourpendresonchapeaucestvraimenttrescommodeemphatiqueaucunventnepeutnezmagistraltenrhumertoutentierexceptelemistraldramatiquecestlamerrougequandilsaigneadmiratifpourunparfumeurquelleenseignelyriqueestceuneconqueetesvousuntritonnaifcemonumentquandlevisitetonrespectueuxsouffrezmonsieurquonvoussaluecestlacequisappelleavoirpignonsurruecampagnardheardecestyunneznanaincestqueuqunavetgeantoubenqueuqumelonnainmilitairepointezcontrecavaleriepratiquevoulezvouslemettreenloterieassurementmonsieurceseralegroslotenfinparodiantpyrameenunsanglotlevoiladonccenezquidestraitsdesonmaitreadetruitlharmonieilenrougitletraitrevoilacequapeupresmonchervousmauriezditsivousaviezunpeudelettresetdespritmaisdespritolepluslamentabledesetresvousneneûtesjamaisunatomeetdelettresvousnavezquelestroisquiformentlemotsoteussiezvouseudailleursiinventionquilfautpourpouvoirladevantcesnoblesgaleriesmeservirtoutescesfollesplaisanteriesquevousneneussiezpasarticulelequartdelamoitieducommencementdunecarjemelessersmoimemeavecassezdevervemaisjenepermetspasquunautremelesserve\""
   ]
  },
  {
   "cell_type": "markdown",
   "metadata": {},
   "source": [
    "Le programme suivant  permet de représenter la fréquence d'apparition de la lettre <b>a</b> dans un extrait de ce texte en fonction de la longueur de l'extrait."
   ]
  },
  {
   "cell_type": "code",
   "execution_count": 5,
   "metadata": {},
   "outputs": [
    {
     "data": {
      "image/png": "[encoded data removed]",
      "text/plain": [
       "<Figure size 432x288 with 1 Axes>"
      ]
     },
     "metadata": {
      "needs_background": "light"
     },
     "output_type": "display_data"
    },
    {
     "name": "stdout",
     "output_type": "stream",
     "text": [
      "0.07720396452790819\n"
     ]
    }
   ],
   "source": [
    "N=len(texte)\n",
    "frequences = []\n",
    "somme = 0\n",
    "for i in range(1,N):   \n",
    "    frequences.append(frequenceLettre(\"a\",texte[:i]))\n",
    "    \n",
    "plt.title(\"Fréquence d'apparition de la lettre en fonction de la longueur du texte\",color=\"#1e7fcb\",fontsize=14)\n",
    "plt.plot(frequences)\n",
    "plt.show()\n",
    "print(frequenceLettre(\"a\",texte))"
   ]
  },
  {
   "cell_type": "markdown",
   "metadata": {
    "colab_type": "text",
    "id": "MM4gvZo9yIHn"
   },
   "source": [
    "<div class=\"alert alert-info\">\n",
    "\n",
    "Suggestions pédagogiques\n",
    "</div>\n",
    "\n",
    "- **Expliquer un programme**\n",
    "\n",
    "    Expliquer les paramètres du `range` de la ligne 4.\n",
    "- **Tester** ce programme en modifiant la lettre recherchée. \n",
    "\n",
    "    Estimer la fréquence d'apparition du <b>e</b> et du <b>s</b>.\n",
    "- **Compléter un programme**\n",
    "\n",
    "    Le programme précédent étant fourni en remplaçant la ligne 5 par `frequences.append(...)`, demander aux élèves de compléter la ligne 5."
   ]
  },
  {
   "cell_type": "markdown",
   "metadata": {
    "colab_type": "text",
    "id": "Vw71Mf83NL3f"
   },
   "source": [
    "## Alphabet en Python\n",
    "La fonction `alphabet` ci-dessous permet de générer une liste contenant les 26 lettres de l'alphabet grâce à la fonction `chr`. Cette fonction renvoie la chaîne représentant un caractère dont le code de caractère Unicode est donné. Par exemple, `chr(97)` renvoie la chaîne de caractères <b>'a'</b>"
   ]
  },
  {
   "cell_type": "code",
   "execution_count": 6,
   "metadata": {
    "colab": {
     "base_uri": "https://localhost:8080/",
     "height": 34
    },
    "colab_type": "code",
    "id": "2J7ycF3zNOv4",
    "outputId": "2fcf372c-7c96-411c-ab0c-87698113d961"
   },
   "outputs": [
    {
     "name": "stdout",
     "output_type": "stream",
     "text": [
      "['a', 'b', 'c', 'd', 'e', 'f', 'g', 'h', 'i', 'j', 'k', 'l', 'm', 'n', 'o', 'p', 'q', 'r', 's', 't', 'u', 'v', 'w', 'x', 'y', 'z']\n"
     ]
    }
   ],
   "source": [
    "def alphabet():\n",
    "    return [chr(i) for i in range(97,123)]\n",
    "\n",
    "print(alphabet())"
   ]
  },
  {
   "cell_type": "markdown",
   "metadata": {
    "colab_type": "text",
    "id": "O4lGtmTfWCf8"
   },
   "source": [
    "<div class=\"alert alert-info\">\n",
    "\n",
    "Suggestions pédagogiques\n",
    "</div>\n",
    "\n",
    "- **Tester** la fonction `alphabet` afin de donner les valeurs de `chr(98)` et `chr(97+25)`.\n",
    "- **Expliquer  un programme**\n",
    "\n",
    "    Que fait la ligne 2 ?"
   ]
  },
  {
   "cell_type": "markdown",
   "metadata": {
    "colab_type": "text",
    "id": "0et7bQCKLNsA"
   },
   "source": [
    "## Liste des fréquences des lettres de l'alphabet\n",
    "La fonction `listeFrequences` donne la liste des fréquences des 26 lettres de l'alphabet dans un texte. Elle prend en paramètre une chaine de caractères et renvoie une liste contenant la fréquence d'apparition des lettres de l'alphabet (toutes dans l'ordre alphabétique) de la chaine de caractères."
   ]
  },
  {
   "cell_type": "code",
   "execution_count": 7,
   "metadata": {
    "colab": {
     "base_uri": "https://localhost:8080/",
     "height": 54
    },
    "colab_type": "code",
    "id": "pEKee1t0LVI4",
    "outputId": "973368f1-477f-4543-d766-88bb6c8a3284"
   },
   "outputs": [
    {
     "name": "stdout",
     "output_type": "stream",
     "text": [
      "[0.07720396452790819, 0.005216484089723527, 0.03547209181011998, 0.026604068857589983, 0.16536254564423578, 0.0099113197704747, 0.00782472613458529, 0.009389671361502348, 0.06677099634846113, 0.0036515388628064684, 0.0, 0.04538341158059468, 0.03547209181011998, 0.0693792383933229, 0.0605112154407929, 0.03495044340114763, 0.016692749087115284, 0.06520605112154408, 0.07511737089201878, 0.0714658320292123, 0.07876890975482524, 0.023995826812728223, 0.0, 0.0036515388628064684, 0.001564945226917058, 0.009389671361502348]\n"
     ]
    }
   ],
   "source": [
    "def listeFrequences(texte):\n",
    "    alpha=alphabet()\n",
    "    liste=[]\n",
    "    for l in alpha:\n",
    "        liste.append(frequenceLettre(l,texte))\n",
    "    return liste\n",
    "print(listeFrequences(texte))"
   ]
  },
  {
   "cell_type": "markdown",
   "metadata": {
    "colab_type": "text",
    "id": "JHZSHrE3zwa7"
   },
   "source": [
    "<div class=\"alert alert-info\">\n",
    "\n",
    "Suggestions pédagogiques\n",
    "</div>\n",
    "\n",
    "- **Compléter  un programme**\n",
    "\n",
    " Le programme précédent étant fourni en remplaçant les lignes 4 et 5 par `for ...` et `liste.append(...)`, demander aux élèves de compléter les lignes 4 et 5.\n",
    "- **Écrire  un programme**\n",
    "\n",
    "    Écrire la fonction `listeFrequences`."
   ]
  },
  {
   "cell_type": "markdown",
   "metadata": {
    "colab_type": "text",
    "id": "aJbX-yVf8TDQ",
    "tags": [
     "diagramme",
     "bâtons",
     "fréquence",
     "lettre",
     "alphabet"
    ]
   },
   "source": [
    "## Diagramme en bâtons des fréquences d'apparition des lettres de l'alphabet\n",
    "Le programme suivant permet de représenter les fréquences des lettres apparaissant dans le texte sous la forme d'un diagramme en bâtons."
   ]
  },
  {
   "cell_type": "code",
   "execution_count": 8,
   "metadata": {
    "colab": {
     "base_uri": "https://localhost:8080/",
     "height": 312
    },
    "colab_type": "code",
    "id": "UAWp-afwTrK_",
    "outputId": "90d6f788-563c-4dc8-f222-a94028ae6ed5"
   },
   "outputs": [
    {
     "data": {
      "image/png": "[encoded data removed]",
      "text/plain": [
       "<Figure size 432x288 with 1 Axes>"
      ]
     },
     "metadata": {
      "needs_background": "light"
     },
     "output_type": "display_data"
    }
   ],
   "source": [
    "ep = 0.5\n",
    "lettres = [lettre for lettre in alphabet()]\n",
    "plt.bar(lettres, listeFrequences(texte), ep, color='b' )\n",
    "plt.xlabel('Lettres')\n",
    "plt.ylabel('Fréquences')\n",
    "plt.title(\"Fréquences d'apparition des lettres dans le texte.\")\n",
    "plt.show()"
   ]
  },
  {
   "cell_type": "markdown",
   "metadata": {
    "colab_type": "text",
    "id": "TbNgS6C8gLUN"
   },
   "source": [
    "## Fréquences d'apparition des lettres dans la langue française\n",
    "\n",
    "Le programme suivant représente la fréquence d'apparition des lettres dans les textes en langue française. Il ne s'agit ici que d'estimations. La nature du texte peut en effet faire varier légérement ces fréquences. La liste donnant ces fréquences pourra être donnée ou remplacée par une autre [(Wikipedia).](https://fr.wikipedia.org/wiki/Fr%C3%A9quence_d%27apparition_des_lettres_en_fran%C3%A7ais)\n",
    "\n",
    "L'objectif est ici de comparer cette représentation à la précédente."
   ]
  },
  {
   "cell_type": "code",
   "execution_count": 9,
   "metadata": {
    "colab": {
     "base_uri": "https://localhost:8080/",
     "height": 312
    },
    "colab_type": "code",
    "id": "iPwHMc1deW8d",
    "outputId": "d72e0bdb-8dcd-4f58-b1da-201d5abcec53"
   },
   "outputs": [
    {
     "data": {
      "image/png": "[encoded data removed]",
      "text/plain": [
       "<Figure size 432x288 with 1 Axes>"
      ]
     },
     "metadata": {
      "needs_background": "light"
     },
     "output_type": "display_data"
    }
   ],
   "source": [
    "frequencesFrance=[0.077,0.013,0.033,0.042,0.174,0.012,0.013,0.011,0.071,0.003,0.005,0.061,0.029,0.064,0.051,0.029,0.007,0.061,0.092,0.071,0.057,0.013,0.001,0.004,0.005,0.001]\n",
    "ep = 0.5\n",
    "lettres = [lettre for lettre in alphabet()]\n",
    "plt.bar(lettres, frequencesFrance, ep, color='r' )\n",
    "plt.xlabel('Lettres')\n",
    "plt.ylabel('Fréquences')\n",
    "plt.title(\"Fréquences d'apparition des lettres dans les textes de la langue française.\")\n",
    "plt.show()"
   ]
  },
  {
   "cell_type": "markdown",
   "metadata": {
    "colab_type": "text",
    "id": "eFFWXBPzhA6z"
   },
   "source": [
    "## Message chiffré\n",
    "Le message ci-dessous a été chiffré à l'aide d'une substitution simple à partir d'un message écrit en français.\n",
    "\n",
    "**rertepadmneppobewogexaemefopwtvvdpexeaweaxdtxeofxepwerzwobe**"
   ]
  },
  {
   "cell_type": "markdown",
   "metadata": {
    "colab_type": "text",
    "id": "rixxi30V3yC2"
   },
   "source": [
    "<div class=\"alert alert-info\">\n",
    "\n",
    "Suggestions pédagogiques\n",
    "</div>\n",
    "\n",
    "- Déchiffrer le message en étudiant les fréquences d'apparition des lettres du message."
   ]
  },
  {
   "cell_type": "markdown",
   "metadata": {
    "colab_type": "text",
    "id": "aLgS1IziGIdq"
   },
   "source": [
    "## Fiche enseignant\n",
    "Correction de la dernière question."
   ]
  },
  {
   "cell_type": "code",
   "execution_count": 10,
   "metadata": {
    "colab": {
     "base_uri": "https://localhost:8080/",
     "height": 312
    },
    "colab_type": "code",
    "id": "SD39Ehzr4BUQ",
    "outputId": "9cab060f-1340-4462-b6c5-5ee420c1bb21"
   },
   "outputs": [
    {
     "data": {
      "text/plain": [
       "Text(0.5,1,\"Fréquences d'apparition des lettres dans le texte.\")"
      ]
     },
     "execution_count": 10,
     "metadata": {},
     "output_type": "execute_result"
    },
    {
     "data": {
      "image/png": "[encoded data removed]",
      "text/plain": [
       "<Figure size 432x288 with 1 Axes>"
      ]
     },
     "metadata": {
      "needs_background": "light"
     },
     "output_type": "display_data"
    }
   ],
   "source": [
    "message=\"rertepadmneppobewogexaemefopwtvvdpexeaweaxdtxeofxepwerzwobe\"\n",
    "ep = 0.5\n",
    "lettres = [lettre for lettre in alphabet()]\n",
    "\n",
    "plt.bar(lettres, listeFrequences(message), ep, color='b' )\n",
    "plt.xlabel('Lettres')\n",
    "plt.ylabel('Fréquences')\n",
    "plt.title(\"Fréquences d'apparition des lettres dans le texte.\")"
   ]
  },
  {
   "cell_type": "markdown",
   "metadata": {
    "colab_type": "text",
    "id": "WFShlabz4aqw"
   },
   "source": [
    "L'alphabet de substitution est ['o', 'i', 'r', 'w', 'e', 'v', 'b', 'u', 't', 'h', 'y', 'g', 'n', 'm', 'z', 'f', 'l', 'x', 'p', 'a', 'd', 'k', 'j', 'c', 'q', 's']\n",
    "le message est le suivant : \n",
    "\n",
    "**ceciestunmessagedalertenepasdiffuseretdetruireapresdecodage** .\n",
    "\n",
    "\n",
    "On pourra remarquer que les fréquences aident au déchiffrement mais ne suffisent pas dans le cas d'un message court. En effet, la fluctuation liée à la taille de l'échantillon est importante."
   ]
  },
  {
   "cell_type": "markdown",
   "metadata": {
    "colab_type": "text",
    "id": "F0TbfzeOpk7I"
   },
   "source": [
    "Le programme ci-dessous n'est pas destiné aux élèves. Il permet de faire le chiffrement d'un message par substitution en utilisant un alphabet de substitution aléatoire. L'enseignant pourra l'utiliser pour proposer d'autres messages chiffrés. "
   ]
  },
  {
   "cell_type": "code",
   "execution_count": 16,
   "metadata": {
    "colab": {
     "base_uri": "https://localhost:8080/",
     "height": 51
    },
    "colab_type": "code",
    "id": "lSgv_9MZkihI",
    "outputId": "08ae0c3e-4df4-478a-bc4d-13fbb1a8f2b7"
   },
   "outputs": [
    {
     "name": "stdout",
     "output_type": "stream",
     "text": [
      "['e', 'p', 'x', 'l', 'f', 'm', 'r', 'n', 'j', 'b', 'd', 'y', 'o', 'i', 'w', 'a', 'z', 'h', 'v', 'u', 'k', 't', 'g', 's', 'q', 'c']\n",
      "xfxjfvukiofvverfleyfhufifaevljmmkvfhfulfuhkjhfeahfvlfxwlerf\n"
     ]
    }
   ],
   "source": [
    "from random import shuffle\n",
    "texte=\"ceciestunmessagedalertenepasdiffuseretdetruireapresdecodage\"\n",
    "texteChiffre=\"\"\n",
    "alpha=alphabet()\n",
    "#création de l'alphabet à l'aide de la fonction shuffle effectuant une permutation aléatoire\n",
    "alphabetSubstitution=alphabet()\n",
    "shuffle(alphabetSubstitution)\n",
    "#Affichage de l'alphabet de substitution\n",
    "print(alphabetSubstitution)\n",
    "#Création du message chiffré\n",
    "for x in texte:\n",
    "    for i in range(26):\n",
    "        if x==alpha[i]:\n",
    "            texteChiffre+=alphabetSubstitution[i]\n",
    "print(texteChiffre) "
   ]
  }
 ],
 "metadata": {
  "celltoolbar": "Tags",
  "colab": {
   "collapsed_sections": [],
   "name": "lettresEtTexte.ipynb",
   "provenance": [],
   "version": "0.3.2"
  },
  "kernelspec": {
   "display_name": "Python 3",
   "language": "python",
   "name": "python3"
  },
  "language_info": {
   "codemirror_mode": {
    "name": "ipython",
    "version": 3
   },
   "file_extension": ".py",
   "mimetype": "text/x-python",
   "name": "python",
   "nbconvert_exporter": "python",
   "pygments_lexer": "ipython3",
   "version": "3.5.5"
  }
 },
 "nbformat": 4,
 "nbformat_minor": 1
}
